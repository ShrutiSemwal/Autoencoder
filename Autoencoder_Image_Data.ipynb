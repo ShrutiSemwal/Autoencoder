{
  "nbformat": 4,
  "nbformat_minor": 0,
  "metadata": {
    "colab": {
      "provenance": [],
      "collapsed_sections": [
        "OMTz0GxSzOUg",
        "g0wjkQ-N5m13"
      ]
    },
    "kernelspec": {
      "name": "python3",
      "display_name": "Python 3"
    },
    "language_info": {
      "name": "python"
    }
  },
  "cells": [
    {
      "cell_type": "markdown",
      "source": [
        "#**Autoencoders on Image Data**"
      ],
      "metadata": {
        "id": "OMTz0GxSzOUg"
      }
    },
    {
      "cell_type": "code",
      "execution_count": 1,
      "metadata": {
        "id": "zOx4wjfwzMJt"
      },
      "outputs": [],
      "source": [
        "import pandas as pd\n",
        "import numpy as np\n",
        "import matplotlib.pyplot as plt"
      ]
    },
    {
      "cell_type": "code",
      "source": [
        "from tensorflow.keras.datasets import mnist"
      ],
      "metadata": {
        "id": "SAI2jqgB0Qya"
      },
      "execution_count": 2,
      "outputs": []
    },
    {
      "cell_type": "code",
      "source": [
        "(X_train, y_train),(X_test, y_test) = mnist.load_data()"
      ],
      "metadata": {
        "colab": {
          "base_uri": "https://localhost:8080/"
        },
        "id": "p2ufxXdG0UiA",
        "outputId": "d9a18fdc-2498-45e1-caf1-21ae830d13de"
      },
      "execution_count": 3,
      "outputs": [
        {
          "output_type": "stream",
          "name": "stdout",
          "text": [
            "Downloading data from https://storage.googleapis.com/tensorflow/tf-keras-datasets/mnist.npz\n",
            "11490434/11490434 [==============================] - 0s 0us/step\n"
          ]
        }
      ]
    },
    {
      "cell_type": "code",
      "source": [
        "plt.imshow(X_train[0])"
      ],
      "metadata": {
        "colab": {
          "base_uri": "https://localhost:8080/",
          "height": 448
        },
        "id": "7vbhB7at0cg0",
        "outputId": "bb34601a-a22f-452d-d89c-a0ed4ae55427"
      },
      "execution_count": 4,
      "outputs": [
        {
          "output_type": "execute_result",
          "data": {
            "text/plain": [
              "<matplotlib.image.AxesImage at 0x7be6069fe740>"
            ]
          },
          "metadata": {},
          "execution_count": 4
        },
        {
          "output_type": "display_data",
          "data": {
            "text/plain": [
              "<Figure size 640x480 with 1 Axes>"
            ],
            "image/png": "[encoded data removed]"
          },
          "metadata": {}
        }
      ]
    },
    {
      "cell_type": "code",
      "source": [
        "X_train = X_train/255"
      ],
      "metadata": {
        "id": "cFGDeUwL0mRQ"
      },
      "execution_count": 5,
      "outputs": []
    },
    {
      "cell_type": "code",
      "source": [
        "X_test = X_test/255"
      ],
      "metadata": {
        "id": "gcOKPrsO0qs5"
      },
      "execution_count": 6,
      "outputs": []
    },
    {
      "cell_type": "code",
      "source": [
        "from tensorflow.keras.models import Sequential\n",
        "from tensorflow.keras.layers import Dense, Flatten, Reshape\n",
        "from tensorflow.keras.optimizers import SGD"
      ],
      "metadata": {
        "id": "e8s4xNZz0txs"
      },
      "execution_count": 7,
      "outputs": []
    },
    {
      "cell_type": "code",
      "source": [
        "28*28"
      ],
      "metadata": {
        "colab": {
          "base_uri": "https://localhost:8080/"
        },
        "id": "rHY3Y1im0_sc",
        "outputId": "6a211df6-7d87-465d-c0df-29126d900900"
      },
      "execution_count": 8,
      "outputs": [
        {
          "output_type": "execute_result",
          "data": {
            "text/plain": [
              "784"
            ]
          },
          "metadata": {},
          "execution_count": 8
        }
      ]
    },
    {
      "cell_type": "code",
      "source": [
        "784/2"
      ],
      "metadata": {
        "colab": {
          "base_uri": "https://localhost:8080/"
        },
        "id": "MOGWBM3l1LnM",
        "outputId": "e490cd99-06fe-45de-a26e-9e6d11fc5e78"
      },
      "execution_count": 9,
      "outputs": [
        {
          "output_type": "execute_result",
          "data": {
            "text/plain": [
              "392.0"
            ]
          },
          "metadata": {},
          "execution_count": 9
        }
      ]
    },
    {
      "cell_type": "code",
      "source": [
        "X_train[0].shape"
      ],
      "metadata": {
        "colab": {
          "base_uri": "https://localhost:8080/"
        },
        "id": "yapnV_GB1Vdg",
        "outputId": "c17c751e-1f58-4d5c-8e77-58487a81bef5"
      },
      "execution_count": 10,
      "outputs": [
        {
          "output_type": "execute_result",
          "data": {
            "text/plain": [
              "(28, 28)"
            ]
          },
          "metadata": {},
          "execution_count": 10
        }
      ]
    },
    {
      "cell_type": "code",
      "source": [
        "encoder = Sequential()\n",
        "encoder.add(Flatten(input_shape=[28,28]))\n",
        "encoder.add(Dense(400, activation='relu'))\n",
        "encoder.add(Dense(200, activation='relu'))\n",
        "encoder.add(Dense(100, activation='relu'))\n",
        "encoder.add(Dense(50, activation='relu'))\n",
        "encoder.add(Dense(25, activation='relu'))"
      ],
      "metadata": {
        "id": "qqkHyiQ31N0s"
      },
      "execution_count": 11,
      "outputs": []
    },
    {
      "cell_type": "code",
      "source": [
        "25/784"
      ],
      "metadata": {
        "colab": {
          "base_uri": "https://localhost:8080/"
        },
        "id": "YiQvwsTy15-v",
        "outputId": "cc06849f-1f48-46b6-9b75-30ad22e7c7e2"
      },
      "execution_count": 12,
      "outputs": [
        {
          "output_type": "execute_result",
          "data": {
            "text/plain": [
              "0.03188775510204082"
            ]
          },
          "metadata": {},
          "execution_count": 12
        }
      ]
    },
    {
      "cell_type": "code",
      "source": [
        "decoder = Sequential()\n",
        "decoder.add(Dense(50,input_shape=[25], activation='relu'))\n",
        "decoder.add(Dense(100, activation='relu'))\n",
        "decoder.add(Dense(200, activation='relu'))\n",
        "decoder.add(Dense(400, activation='relu'))\n",
        "decoder.add(Dense(784, activation='sigmoid'))\n",
        "decoder.add(Reshape([28,28]))"
      ],
      "metadata": {
        "id": "nfv2i5K518jV"
      },
      "execution_count": 13,
      "outputs": []
    },
    {
      "cell_type": "code",
      "source": [
        "autoencoder = Sequential([encoder, decoder])"
      ],
      "metadata": {
        "id": "WSPZbu0h2m8G"
      },
      "execution_count": 14,
      "outputs": []
    },
    {
      "cell_type": "code",
      "source": [
        "autoencoder.compile(loss='binary_crossentropy', optimizer=SGD(learning_rate=1.5), metrics=['accuracy'])"
      ],
      "metadata": {
        "id": "kgsHW8LZ2q9f"
      },
      "execution_count": 15,
      "outputs": []
    },
    {
      "cell_type": "code",
      "source": [
        "autoencoder.fit(X_train, X_train, epochs = 5, validation_data = [X_test, X_test])"
      ],
      "metadata": {
        "colab": {
          "base_uri": "https://localhost:8080/"
        },
        "id": "5hs1TMCx29Md",
        "outputId": "aea24ccd-fd98-4d74-ec7a-cc3b449459c5"
      },
      "execution_count": 16,
      "outputs": [
        {
          "output_type": "stream",
          "name": "stdout",
          "text": [
            "Epoch 1/5\n",
            "1875/1875 [==============================] - 26s 13ms/step - loss: 0.2554 - accuracy: 0.0846 - val_loss: 0.2214 - val_accuracy: 0.1211\n",
            "Epoch 2/5\n",
            "1875/1875 [==============================] - 23s 12ms/step - loss: 0.1986 - accuracy: 0.1430 - val_loss: 0.1755 - val_accuracy: 0.1631\n",
            "Epoch 3/5\n",
            "1875/1875 [==============================] - 26s 14ms/step - loss: 0.1631 - accuracy: 0.1916 - val_loss: 0.1518 - val_accuracy: 0.2051\n",
            "Epoch 4/5\n",
            "1875/1875 [==============================] - 25s 13ms/step - loss: 0.1493 - accuracy: 0.2113 - val_loss: 0.1404 - val_accuracy: 0.2169\n",
            "Epoch 5/5\n",
            "1875/1875 [==============================] - 24s 13ms/step - loss: 0.1394 - accuracy: 0.2243 - val_loss: 0.1333 - val_accuracy: 0.2325\n"
          ]
        },
        {
          "output_type": "execute_result",
          "data": {
            "text/plain": [
              "<keras.src.callbacks.History at 0x7be6064be470>"
            ]
          },
          "metadata": {},
          "execution_count": 16
        }
      ]
    },
    {
      "cell_type": "code",
      "source": [
        "passed_images = autoencoder.predict(X_test[:10])"
      ],
      "metadata": {
        "colab": {
          "base_uri": "https://localhost:8080/"
        },
        "id": "-Vrnr-Kg3_VC",
        "outputId": "e374461d-7dc6-4072-d095-7b63c7208707"
      },
      "execution_count": 17,
      "outputs": [
        {
          "output_type": "stream",
          "name": "stdout",
          "text": [
            "1/1 [==============================] - 1s 528ms/step\n"
          ]
        }
      ]
    },
    {
      "cell_type": "code",
      "source": [
        "n=3\n",
        "\n",
        "print('Original Image')\n",
        "plt.imshow(X_test[n])\n",
        "plt.show()\n",
        "print('Attempted Reconstruction (after autoencoder)')\n",
        "plt.imshow(passed_images[n])"
      ],
      "metadata": {
        "colab": {
          "base_uri": "https://localhost:8080/",
          "height": 897
        },
        "id": "3DL6C3gR4G9S",
        "outputId": "6ac1e340-a5bd-45a1-9a8b-2cd322cd9472"
      },
      "execution_count": 19,
      "outputs": [
        {
          "output_type": "stream",
          "name": "stdout",
          "text": [
            "Original Image\n"
          ]
        },
        {
          "output_type": "display_data",
          "data": {
            "text/plain": [
              "<Figure size 640x480 with 1 Axes>"
            ],
            "image/png": "[encoded data removed]"
          },
          "metadata": {}
        },
        {
          "output_type": "stream",
          "name": "stdout",
          "text": [
            "Attempted Reconstruction (after autoencoder)\n"
          ]
        },
        {
          "output_type": "execute_result",
          "data": {
            "text/plain": [
              "<matplotlib.image.AxesImage at 0x7be5e81a7d90>"
            ]
          },
          "metadata": {},
          "execution_count": 19
        },
        {
          "output_type": "display_data",
          "data": {
            "text/plain": [
              "<Figure size 640x480 with 1 Axes>"
            ],
            "image/png": "[encoded data removed]"
          },
          "metadata": {}
        }
      ]
    },
    {
      "cell_type": "code",
      "source": [
        "from tensorflow.keras.layers import GaussianNoise"
      ],
      "metadata": {
        "id": "BDrGPRjR4pYR"
      },
      "execution_count": 20,
      "outputs": []
    },
    {
      "cell_type": "code",
      "source": [
        "sample = GaussianNoise(0.2)"
      ],
      "metadata": {
        "id": "cHo7nEGP4_lB"
      },
      "execution_count": 21,
      "outputs": []
    },
    {
      "cell_type": "code",
      "source": [
        "noisey = sample(X_test[:10], training=True)"
      ],
      "metadata": {
        "id": "A2wDqeqw5Cnx"
      },
      "execution_count": 22,
      "outputs": []
    },
    {
      "cell_type": "code",
      "source": [
        "n = 0\n",
        "\n",
        "print('ORIGINAL')\n",
        "plt.imshow(X_test[n])\n",
        "plt.show()\n",
        "print('NOISE VERSION')\n",
        "plt.imshow(noisey[n])\n",
        "plt.show()"
      ],
      "metadata": {
        "colab": {
          "base_uri": "https://localhost:8080/",
          "height": 879
        },
        "id": "DVOv96Wx5Kb6",
        "outputId": "33f1fe68-5e90-4f39-cb19-fa8f15024e28"
      },
      "execution_count": 23,
      "outputs": [
        {
          "output_type": "stream",
          "name": "stdout",
          "text": [
            "ORIGINAL\n"
          ]
        },
        {
          "output_type": "display_data",
          "data": {
            "text/plain": [
              "<Figure size 640x480 with 1 Axes>"
            ],
            "image/png": "[encoded data removed]"
          },
          "metadata": {}
        },
        {
          "output_type": "stream",
          "name": "stdout",
          "text": [
            "NOISE VERSION\n"
          ]
        },
        {
          "output_type": "display_data",
          "data": {
            "text/plain": [
              "<Figure size 640x480 with 1 Axes>"
            ],
            "image/png": "[encoded data removed]"
          },
          "metadata": {}
        }
      ]
    },
    {
      "cell_type": "markdown",
      "source": [
        "##**Noise Removal Autoencoder**"
      ],
      "metadata": {
        "id": "g0wjkQ-N5m13"
      }
    },
    {
      "cell_type": "code",
      "source": [
        "import tensorflow as tf"
      ],
      "metadata": {
        "id": "w0ix4OIQ5lGG"
      },
      "execution_count": 24,
      "outputs": []
    },
    {
      "cell_type": "code",
      "source": [
        "tf.random.set_seed(101)\n",
        "np.random.seed(101)\n",
        "\n",
        "encoder = Sequential()\n",
        "encoder.add(Flatten(input_shape=[28,28]))\n",
        "\n",
        "encoder.add(GaussianNoise(0.2))\n",
        "\n",
        "encoder.add(Dense(400, activation='relu'))\n",
        "encoder.add(Dense(200, activation='relu'))\n",
        "encoder.add(Dense(100, activation='relu'))\n",
        "encoder.add(Dense(50, activation='relu'))\n",
        "encoder.add(Dense(25, activation='relu'))"
      ],
      "metadata": {
        "id": "AFbal-BE6EAu"
      },
      "execution_count": 25,
      "outputs": []
    },
    {
      "cell_type": "code",
      "source": [
        "decoder = Sequential()\n",
        "decoder.add(Dense(50,input_shape=[25], activation='relu'))\n",
        "decoder.add(Dense(100, activation='relu'))\n",
        "decoder.add(Dense(200, activation='relu'))\n",
        "decoder.add(Dense(400, activation='relu'))\n",
        "decoder.add(Dense(784, activation='sigmoid'))\n",
        "decoder.add(Reshape([28,28]))"
      ],
      "metadata": {
        "id": "pO3Z1SJD6sH8"
      },
      "execution_count": 26,
      "outputs": []
    },
    {
      "cell_type": "code",
      "source": [
        "noise_remover = Sequential([encoder, decoder])"
      ],
      "metadata": {
        "id": "iUJEUZWo6xDA"
      },
      "execution_count": 28,
      "outputs": []
    },
    {
      "cell_type": "code",
      "source": [
        "noise_remover.compile(loss='binary_crossentropy',optimizer = 'adam', metrics=['accuracy'] )"
      ],
      "metadata": {
        "id": "UpPAD9Wy64Ee"
      },
      "execution_count": 29,
      "outputs": []
    },
    {
      "cell_type": "code",
      "source": [
        "noise_remover.fit(X_train, X_train, epochs = 8)"
      ],
      "metadata": {
        "colab": {
          "base_uri": "https://localhost:8080/"
        },
        "id": "Ilw_zR4n7C2L",
        "outputId": "53830c16-7c5a-477c-a16b-78d3f4c74dd6"
      },
      "execution_count": 30,
      "outputs": [
        {
          "output_type": "stream",
          "name": "stdout",
          "text": [
            "Epoch 1/8\n",
            "1875/1875 [==============================] - 34s 17ms/step - loss: 0.1729 - accuracy: 0.1804\n",
            "Epoch 2/8\n",
            "1875/1875 [==============================] - 31s 17ms/step - loss: 0.1298 - accuracy: 0.2368\n",
            "Epoch 3/8\n",
            "1875/1875 [==============================] - 35s 19ms/step - loss: 0.1215 - accuracy: 0.2499\n",
            "Epoch 4/8\n",
            "1875/1875 [==============================] - 32s 17ms/step - loss: 0.1165 - accuracy: 0.2564\n",
            "Epoch 5/8\n",
            "1875/1875 [==============================] - 33s 18ms/step - loss: 0.1135 - accuracy: 0.2616\n",
            "Epoch 6/8\n",
            "1875/1875 [==============================] - 31s 17ms/step - loss: 0.1113 - accuracy: 0.2652\n",
            "Epoch 7/8\n",
            "1875/1875 [==============================] - 33s 17ms/step - loss: 0.1091 - accuracy: 0.2687\n",
            "Epoch 8/8\n",
            "1875/1875 [==============================] - 31s 17ms/step - loss: 0.1072 - accuracy: 0.2725\n"
          ]
        },
        {
          "output_type": "execute_result",
          "data": {
            "text/plain": [
              "<keras.src.callbacks.History at 0x7be5e2da60b0>"
            ]
          },
          "metadata": {},
          "execution_count": 30
        }
      ]
    },
    {
      "cell_type": "code",
      "source": [
        "ten_noisey_images = sample(X_test[:10], training=True)"
      ],
      "metadata": {
        "id": "r3CxZJAY7IgY"
      },
      "execution_count": 31,
      "outputs": []
    },
    {
      "cell_type": "code",
      "source": [
        "denoised = noise_remover(ten_noisey_images)"
      ],
      "metadata": {
        "id": "r-LhMowC8TRm"
      },
      "execution_count": 32,
      "outputs": []
    },
    {
      "cell_type": "code",
      "source": [
        "n=0\n",
        "print('ORIGINAL IMAGE')\n",
        "plt.imshow(X_test[n])\n",
        "plt.show()\n",
        "print('NOISE ADDED IMAGE')\n",
        "plt.imshow(ten_noisey_images[n])\n",
        "plt.show()\n",
        "print('AFTER NOISE REMOVAL FROM AUTOENCODER')\n",
        "plt.imshow(denoised[n])\n",
        "plt.show()"
      ],
      "metadata": {
        "colab": {
          "base_uri": "https://localhost:8080/",
          "height": 1000
        },
        "id": "BTPGwmin8YVB",
        "outputId": "6fd70f88-df3c-4fbd-ca44-89cbb8b6e3b5"
      },
      "execution_count": 34,
      "outputs": [
        {
          "output_type": "stream",
          "name": "stdout",
          "text": [
            "ORIGINAL IMAGE\n"
          ]
        },
        {
          "output_type": "display_data",
          "data": {
            "text/plain": [
              "<Figure size 640x480 with 1 Axes>"
            ],
            "image/png": "[encoded data removed]"
          },
          "metadata": {}
        },
        {
          "output_type": "stream",
          "name": "stdout",
          "text": [
            "NOISE ADDED IMAGE\n"
          ]
        },
        {
          "output_type": "display_data",
          "data": {
            "text/plain": [
              "<Figure size 640x480 with 1 Axes>"
            ],
            "image/png": "[encoded data removed]"
          },
          "metadata": {}
        },
        {
          "output_type": "stream",
          "name": "stdout",
          "text": [
            "AFTER NOISE REMOVAL FROM AUTOENCODER\n"
          ]
        },
        {
          "output_type": "display_data",
          "data": {
            "text/plain": [
              "<Figure size 640x480 with 1 Axes>"
            ],
            "image/png": "[encoded data removed]"
          },
          "metadata": {}
        }
      ]
    }
  ]
}